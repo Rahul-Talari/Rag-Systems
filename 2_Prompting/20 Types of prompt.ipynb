{
 "cells": [
  {
   "cell_type": "markdown",
   "metadata": {},
   "source": [
    "## Prompt in Generative AI\n",
    "\n",
    "A **prompt** is an input text that guides the AI model to generate a specific response,  \n",
    "based on its training data and learned patterns.\n",
    "\n",
    "### 1. Context Window\n",
    "The **context window** refers to the maximum amount of text (tokens) the AI model can process at a time.  \n",
    "Larger context windows allow models to understand and generate more coherent responses.\n",
    "\n",
    "### 2. Types of Prompts\n",
    "#### **User Prompt**\n",
    "A direct instruction or query given by the user to get a response from the AI model.  \n",
    "- Example: *\"Summarize this article in three points.\"*\n",
    "\n",
    "#### **System Prompt**\n",
    "A predefined instruction that sets the behavior or style of the AI's response.  \n",
    "- Example: *\"You are a helpful assistant who answers in a professional tone.\"*\n"
   ]
  },
  {
   "cell_type": "code",
   "execution_count": null,
   "metadata": {},
   "outputs": [],
   "source": []
  },
  {
   "cell_type": "code",
   "execution_count": null,
   "metadata": {},
   "outputs": [],
   "source": []
  },
  {
   "cell_type": "code",
   "execution_count": null,
   "metadata": {},
   "outputs": [],
   "source": []
  },
  {
   "cell_type": "code",
   "execution_count": null,
   "metadata": {},
   "outputs": [],
   "source": []
  },
  {
   "cell_type": "code",
   "execution_count": null,
   "metadata": {},
   "outputs": [],
   "source": []
  }
 ],
 "metadata": {
  "kernelspec": {
   "display_name": "rag_venv",
   "language": "python",
   "name": "python3"
  },
  "language_info": {
   "name": "python",
   "version": "3.13.0"
  }
 },
 "nbformat": 4,
 "nbformat_minor": 2
}
