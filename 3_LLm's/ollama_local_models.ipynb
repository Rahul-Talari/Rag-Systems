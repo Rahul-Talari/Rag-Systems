{
 "cells": [
  {
   "cell_type": "markdown",
   "metadata": {},
   "source": [
    "### Setup\n",
    "\n",
    "To download any models and use them from Ollama."
   ]
  },
  {
   "cell_type": "code",
   "execution_count": null,
   "metadata": {},
   "outputs": [],
   "source": [
    "# cmd:\n",
    "# >>ollama run deepseek-r1:1.5b\n",
    "! ollama pull deepseek-r1:1.5b\n",
    "! pip install -U langchain-ollama\n",
    "\n",
    "# https://python.langchain.com/api_reference/ollama/chat_models/langchain_ollama.chat_models.ChatOllama.html#langchain_ollama.chat_models.ChatOllama"
   ]
  },
  {
   "cell_type": "markdown",
   "metadata": {},
   "source": [
    "### Model Instance"
   ]
  },
  {
   "cell_type": "code",
   "execution_count": 6,
   "metadata": {},
   "outputs": [],
   "source": [
    "! pip install -qU langchain_ollama "
   ]
  },
  {
   "cell_type": "code",
   "execution_count": 3,
   "metadata": {},
   "outputs": [],
   "source": [
    "from langchain_ollama import ChatOllama\n",
    "\n",
    "llm = ChatOllama(\n",
    "    model = \"deepseek-r1:1.5b\",\n",
    "    temperature = 0.8,\n",
    ")"
   ]
  },
  {
   "cell_type": "markdown",
   "metadata": {},
   "source": [
    "**Usage**"
   ]
  },
  {
   "cell_type": "markdown",
   "metadata": {},
   "source": [
    "**1. Sync invoke**"
   ]
  },
  {
   "cell_type": "code",
   "execution_count": null,
   "metadata": {},
   "outputs": [],
   "source": [
    "messages = [\n",
    "    (\"system\", \"You are a helpful translator. Translate the user sentence to Hindi.\"),\n",
    "    (\"human\", \"I love programming\"),\n",
    "]\n",
    "result=llm.invoke(messages)  # Prompt: Translate the sentence into Hindi. Human: I love programming.\n",
    "print(result.content)"
   ]
  },
  {
   "cell_type": "markdown",
   "metadata": {},
   "source": [
    "**2. Sync Stream**"
   ]
  },
  {
   "cell_type": "code",
   "execution_count": null,
   "metadata": {},
   "outputs": [],
   "source": [
    "messages = [\n",
    "    (\"system\", \"You are a helpful translator. Translate the user sentence to Hindi.\"),\n",
    "    (\"human\", \"HOw are you?\"),\n",
    "]\n",
    "\n",
    "for chunk in llm.stream(messages):\n",
    "    print(chunk.content, end='', flush=True) # Prompt: Translate the sentence into Hindi. Human: I love programming."
   ]
  },
  {
   "cell_type": "markdown",
   "metadata": {},
   "source": [
    "**3. Async**"
   ]
  },
  {
   "cell_type": "code",
   "execution_count": null,
   "metadata": {},
   "outputs": [],
   "source": [
    "import asyncio\n",
    "\n",
    "# Define multiple messages\n",
    "messages_list = [\n",
    "    [(\"system\", \"Translate the user sentence to Hindi.\"), (\"human\", \"How are you?\")],\n",
    "    [(\"system\", \"Translate the user sentence to French.\"), (\"human\", \"What is your name?\")],\n",
    "    [(\"system\", \"Translate the user sentence to Spanish.\"), (\"human\", \"Where do you live?\")],\n",
    "]\n",
    "\n",
    "# Simple async function to process the messages\n",
    "async def process_requests(messages_list):\n",
    "    for messages in messages_list:\n",
    "        response = await llm.ainvoke(messages)\n",
    "        print(response.content)\n",
    "\n",
    "# Run the async function\n",
    "await process_requests(messages_list)\n"
   ]
  },
  {
   "cell_type": "markdown",
   "metadata": {},
   "source": [
    "**4. Async stream**"
   ]
  },
  {
   "cell_type": "code",
   "execution_count": null,
   "metadata": {},
   "outputs": [],
   "source": [
    "# Define multiple messages\n",
    "messages_list = [\n",
    "    [(\"system\", \"Translate the user sentence to Hindi.\"), (\"human\", \"How are you?\")],\n",
    "    [(\"system\", \"Translate the user sentence to French.\"), (\"human\", \"What is your name?\")],\n",
    "    [(\"system\", \"Translate the user sentence to Spanish.\"), (\"human\", \"Where do you live?\")],\n",
    "]\n",
    "\n",
    "# Async function to stream messages\n",
    "async def stream_requests(messages_list):\n",
    "    for messages in messages_list:\n",
    "        async for chunk in llm.astream(messages):\n",
    "            print(chunk.content,end='',flush=True)\n",
    "\n",
    "# Run the async streaming function\n",
    "await stream_requests(messages_list)"
   ]
  },
  {
   "cell_type": "markdown",
   "metadata": {},
   "source": [
    "**5.Async batch**"
   ]
  },
  {
   "cell_type": "code",
   "execution_count": null,
   "metadata": {},
   "outputs": [],
   "source": [
    "# Define the list of messages\n",
    "messages_list = [\n",
    "    [(\"system\", \"Translate the user sentence to Hindi.\"), (\"human\", \"How are you?\")],\n",
    "    [(\"system\", \"Translate the user sentence to French.\"), (\"human\", \"What is your name?\")],\n",
    "    [(\"system\", \"Translate the user sentence to Spanish.\"), (\"human\", \"Where do you live?\")],\n",
    "]\n",
    "\n",
    "# Send multiple messages asynchronously in a batch\n",
    "response = await llm.abatch(messages_list)\n",
    "\n",
    "# Loop through the responses and print each content\n",
    "for res in response:\n",
    "    print(res.content)\n"
   ]
  },
  {
   "cell_type": "code",
   "execution_count": 5,
   "metadata": {},
   "outputs": [
    {
     "name": "stderr",
     "output_type": "stream",
     "text": [
      "\u001b[?25lpulling manifest ⠋ \u001b[?25h\u001b[?25l\u001b[2K\u001b[1Gpulling manifest ⠙ \u001b[?25h\u001b[?25l\u001b[2K\u001b[1Gpulling manifest ⠹ \u001b[?25h\u001b[?25l\u001b[2K\u001b[1Gpulling manifest ⠸ \u001b[?25h\u001b[?25l\u001b[2K\u001b[1Gpulling manifest ⠼ \u001b[?25h\u001b[?25l\u001b[2K\u001b[1Gpulling manifest ⠴ \u001b[?25h\u001b[?25l\u001b[2K\u001b[1Gpulling manifest ⠦ \u001b[?25h\u001b[?25l\u001b[2K\u001b[1Gpulling manifest ⠧ \u001b[?25h\u001b[?25l\u001b[2K\u001b[1Gpulling manifest ⠇ \u001b[?25h\u001b[?25l\u001b[2K\u001b[1Gpulling manifest ⠏ \u001b[?25h\u001b[?25l\u001b[2K\u001b[1Gpulling manifest ⠋ \u001b[?25h\u001b[?25l\u001b[2K\u001b[1Gpulling manifest ⠙ \u001b[?25h\u001b[?25l\u001b[2K\u001b[1Gpulling manifest \n",
      "pulling 74701a8c35f6... 100% ▕████████████████▏ 1.3 GB                         \n",
      "pulling 966de95ca8a6... 100% ▕████████████████▏ 1.4 KB                         \n",
      "pulling fcc5a6bec9da... 100% ▕████████████████▏ 7.7 KB                         \n",
      "pulling a70ff7e570d9... 100% ▕████████████████▏ 6.0 KB                         \n",
      "pulling 4f659a1e86d7... 100% ▕████████████████▏  485 B                         \n",
      "verifying sha256 digest \n",
      "writing manifest \n",
      "success \u001b[?25h\n"
     ]
    }
   ],
   "source": [
    "! ollama pull llama3.2:1b"
   ]
  },
  {
   "cell_type": "code",
   "execution_count": 8,
   "metadata": {},
   "outputs": [
    {
     "data": {
      "text/plain": [
       "[Model(model='llama3.2:1b', modified_at=datetime.datetime(2025, 1, 27, 21, 19, 16, 493866, tzinfo=TzInfo(+05:30)), digest='baf6a787fdffd633537aa2eb51cfd54cb93ff08e28040095462bb63daf552878', size=1321098329, details=ModelDetails(parent_model='', format='gguf', family='llama', families=['llama'], parameter_size='1.2B', quantization_level='Q8_0')),\n",
       " Model(model='nomic-embed-text:latest', modified_at=datetime.datetime(2025, 1, 26, 22, 53, 34, 471628, tzinfo=TzInfo(+05:30)), digest='0a109f422b47e3a30ba2b10eca18548e944e8a23073ee3f3e947efcf3c45e59f', size=274302450, details=ModelDetails(parent_model='', format='gguf', family='nomic-bert', families=['nomic-bert'], parameter_size='137M', quantization_level='F16')),\n",
       " Model(model='deepseek-r1:1.5b', modified_at=datetime.datetime(2025, 1, 25, 16, 40, 52, 746978, tzinfo=TzInfo(+05:30)), digest='a42b25d8c10a841bd24724309898ae851466696a7d7f3a0a408b895538ccbc96', size=1117322599, details=ModelDetails(parent_model='', format='gguf', family='qwen2', families=['qwen2'], parameter_size='1.8B', quantization_level='Q4_K_M'))]"
      ]
     },
     "execution_count": 8,
     "metadata": {},
     "output_type": "execute_result"
    }
   ],
   "source": [
    "import ollama\n",
    "\n",
    "print(ollama.list())"
   ]
  },
  {
   "cell_type": "code",
   "execution_count": null,
   "metadata": {},
   "outputs": [],
   "source": []
  },
  {
   "cell_type": "code",
   "execution_count": null,
   "metadata": {},
   "outputs": [],
   "source": []
  }
 ],
 "metadata": {
  "kernelspec": {
   "display_name": "venv",
   "language": "python",
   "name": "python3"
  },
  "language_info": {
   "codemirror_mode": {
    "name": "ipython",
    "version": 3
   },
   "file_extension": ".py",
   "mimetype": "text/x-python",
   "name": "python",
   "nbconvert_exporter": "python",
   "pygments_lexer": "ipython3",
   "version": "3.13.1"
  }
 },
 "nbformat": 4,
 "nbformat_minor": 2
}
