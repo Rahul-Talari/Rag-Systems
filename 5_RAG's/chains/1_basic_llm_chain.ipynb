{
 "cells": [
  {
   "cell_type": "markdown",
   "metadata": {},
   "source": [
    "### Basic LLM Chain"
   ]
  },
  {
   "cell_type": "code",
   "execution_count": null,
   "metadata": {},
   "outputs": [],
   "source": [
    "! pip install langchain-core langchain-groq "
   ]
  },
  {
   "cell_type": "code",
   "execution_count": 3,
   "metadata": {},
   "outputs": [
    {
     "name": "stdout",
     "output_type": "stream",
     "text": [
      "As a world-class technical documentation writer, Langsmith can assist with testing by providing:\n",
      "\n",
      "1. Clear and concise test cases to ensure thorough and accurate testing.\n",
      "2. Documentation of test results to help identify and track bugs.\n",
      "3. Assistance with test automation to increase efficiency and consistency.\n",
      "4. Collaboration with the development team to ensure documentation and testing align with the product's goals and requirements.\n"
     ]
    }
   ],
   "source": [
    "import os\n",
    "from langchain_core.prompts import ChatPromptTemplate\n",
    "from langchain_core.output_parsers import StrOutputParser\n",
    "from langchain_groq import ChatGroq\n",
    "\n",
    "prompt = ChatPromptTemplate.from_messages([\n",
    "    (\"system\", \"You are a world class technical documentation writer.\"),\n",
    "    (\"user\", \"{input}\")\n",
    "])\n",
    "\n",
    "os.environ[\"GROQ_API_KEY\"] = \"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\"\n",
    "llm_mixtral = ChatGroq(model=\"mixtral-8x7b-32768\")\n",
    "\n",
    "output_parser = StrOutputParser()\n",
    "\n",
    "chain = prompt | llm_mixtral | output_parser\n",
    "\n",
    "result=chain.invoke({\"input\": \"how can langsmith help with testing?Explain in short.\"}) \n",
    "print(result)"
   ]
  }
 ],
 "metadata": {
  "kernelspec": {
   "display_name": "venv",
   "language": "python",
   "name": "python3"
  },
  "language_info": {
   "codemirror_mode": {
    "name": "ipython",
    "version": 3
   },
   "file_extension": ".py",
   "mimetype": "text/x-python",
   "name": "python",
   "nbconvert_exporter": "python",
   "pygments_lexer": "ipython3",
   "version": "3.13.1"
  }
 },
 "nbformat": 4,
 "nbformat_minor": 2
}
