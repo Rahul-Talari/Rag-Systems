{
 "cells": [
  {
   "cell_type": "markdown",
   "metadata": {},
   "source": [
    "### Agentic Chain"
   ]
  },
  {
   "cell_type": "code",
   "execution_count": null,
   "metadata": {},
   "outputs": [],
   "source": [
    "# Step 1: Load, Chunk, Embed, Store\n",
    "\n",
    "from langchain_community.document_loaders import WebBaseLoader\n",
    "from langchain_text_splitters import RecursiveCharacterTextSplitter\n",
    "from langchain_community.vectorstores import FAISS\n",
    "from langchain_ollama import OllamaEmbeddings\n",
    "\n",
    "# Load documents from a URL\n",
    "docs = WebBaseLoader(\"https://docs.smith.langchain.com/user_guide\").load()  \n",
    "\n",
    "# Split documents into chunks\n",
    "chunk = RecursiveCharacterTextSplitter()\n",
    "documents = chunk.split_documents(docs)              \n",
    "document_texts = [doc.page_content for doc in documents]  # Extract text\n",
    "\n",
    "# Embed document texts\n",
    "embed = OllamaEmbeddings(model=\"nomic-embed-text\")\n",
    "embeddings = embed.embed_documents(document_texts)  # Generate embeddings\n",
    "\n",
    "# Create and save FAISS vector store\n",
    "vector = FAISS.from_embeddings(list(zip(document_texts, embeddings)), embedding=embed)\n",
    "vector.save_local(\"C:/Users/admin/OneDrive/Desktop/RAG'S/vector db/Faiss-index/\")  # Store locally"
   ]
  },
  {
   "cell_type": "code",
   "execution_count": null,
   "metadata": {},
   "outputs": [
    {
     "name": "stderr",
     "output_type": "stream",
     "text": [
      "c:\\Users\\admin\\anaconda3\\envs\\venv\\Lib\\site-packages\\langsmith\\client.py:256: LangSmithMissingAPIKeyWarning: API key must be provided when using hosted LangSmith API\n",
      "  warnings.warn(\n"
     ]
    }
   ],
   "source": [
    "import os\n",
    "from langchain_community.tools.tavily_search import TavilySearchResults\n",
    "from langchain_groq import ChatGroq\n",
    "from langchain_community.vectorstores import FAISS\n",
    "from langchain_ollama import OllamaEmbeddings\n",
    "from langchain.tools.retriever import create_retriever_tool\n",
    "from langchain_community.tools import DuckDuckGoSearchResults  # DuckDuckGo for general search\n",
    "from langchain import hub\n",
    "from langchain.agents import AgentExecutor, create_tool_calling_agent\n",
    "\n",
    "# Load vector Store\n",
    "embed = OllamaEmbeddings(model=\"nomic-embed-text\")\n",
    "vector = FAISS.load_local(\"C:/Users/admin/OneDrive/Desktop/RAG'S/vector db/Faiss-index/\", embeddings=embed, allow_dangerous_deserialization=True)\n",
    "\n",
    "#Retriever tool\n",
    "retriever = vector.as_retriever()\n",
    "retriever_tool = create_retriever_tool(\n",
    "    retriever,\n",
    "    \"langsmith_search\",\n",
    "    \"Search for information about LangSmith. For any questions about LangSmith, you must use this tool!\"\n",
    ")\n",
    "\n",
    "# Search tool\n",
    "os.environ[\"TAVILY_API_KEY\"] = \"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\"\n",
    "search_tool = TavilySearchResults()\n",
    "\n",
    "tools = [retriever_tool, search_tool]\n",
    "\n",
    "prompt = hub.pull(\"hwchase17/openai-functions-agent\")\n",
    "\n",
    "os.environ[\"GROQ_API_KEY\"] = \"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\"\n",
    "llm_mixtral = ChatGroq(model=\"mixtral-8x7b-32768\")\n",
    "\n",
    "# Create agent using the Groq LLM and tools\n",
    "agent = create_tool_calling_agent(tools, prompt, llm_mixtral)\n",
    "\n",
    "# Initialize AgentExecutor to run the agent with tools\n",
    "agent_executor = AgentExecutor(agent=agent, tools=tools, verbose=True)"
   ]
  },
  {
   "cell_type": "code",
   "execution_count": 24,
   "metadata": {},
   "outputs": [
    {
     "name": "stdout",
     "output_type": "stream",
     "text": [
      "\n",
      "\n",
      "\u001b[1m> Entering new AgentExecutor chain...\u001b[0m\n",
      "\u001b[32;1m\u001b[1;3m\n",
      "Invoking: `langsmith_search` with `{'query': 'LangSmith overview'}`\n",
      "\n",
      "\n",
      "\u001b[0m\u001b[36;1m\u001b[1;3mBeta Testing​\n",
      "Beta testing allows developers to collect more data on how their LLM applications are performing in real-world scenarios. In this phase, it’s important to develop an understanding for the types of inputs the app is performing well or poorly on and how exactly it’s breaking down in those cases. Both feedback collection and run annotation are critical for this workflow. This will help in curation of test cases that can help track regressions/improvements and development of automatic evaluations.\n",
      "Capturing Feedback​\n",
      "When launching your application to an initial set of users, it’s important to gather human feedback on the responses it’s producing. This helps draw attention to the most interesting runs and highlight edge cases that are causing problematic responses. LangSmith allows you to attach feedback scores to logged traces (oftentimes, this is hooked up to a feedback button in your app), then filter on traces that have a specific feedback tag and score. A common workflow is to filter on traces that receive a poor user feedback score, then drill down into problematic points using the detailed trace view.\n",
      "\n",
      "\n",
      "Annotating Traces​\n",
      "LangSmith also supports sending runs to annotation queues, which allow annotators to closely inspect interesting traces and annotate them with respect to different criteria. Annotators can be PMs, engineers, or even subject matter experts. This allows users to catch regressions across important evaluation criteria.\n",
      "\n",
      "\n",
      "Adding Runs to a Dataset​\n",
      "As your application progresses through the beta testing phase, it's essential to continue collecting data to refine and improve its performance. LangSmith enables you to add runs as examples to datasets (from both the project page and within an annotation queue), expanding your test coverage on real-world scenarios. This is a key benefit in having your logging system and your evaluation/testing system in the same platform.\n",
      "\n",
      "\n",
      "Production​\n",
      "Closely inspecting key data points, growing benchmarking datasets, annotating traces, and drilling down into important data in trace view are workflows you’ll also want to do once your app hits production.\n",
      "However, especially at the production stage, it’s crucial to get a high-level overview of application performance with respect to latency, cost, and feedback scores. This ensures that it's delivering desirable results at scale.\n",
      "Online evaluations and automations allow you to process and score production traces in near real-time.\n",
      "Additionally, threads provide a seamless way to group traces from a single conversation, making it easier to track the performance of your application across multiple turns.\n",
      "Monitoring and A/B Testing​\n",
      "LangSmith provides monitoring charts that allow you to track key metrics over time. You can expand to view metrics for a given period and drill down into a specific data point to get a trace table for that time period — this is especially handy for debugging production issues.\n",
      "LangSmith also allows for tag and metadata grouping, which allows users to mark different versions of their applications with different identifiers and view how they are performing side-by-side within each chart. This is helpful for A/B testing changes in prompt, model, or retrieval strategy.\n",
      "\n",
      "\n",
      "Automations​\n",
      "Automations are a powerful feature in LangSmith that allow you to perform actions on traces in near real-time. This can be used to automatically score traces, send them to annotation queues, or send them to datasets.\n",
      "To define an automation, simply provide a filter condition, a sampling rate, and an action to perform. Automations are particularly helpful for processing traces at production scale.\n",
      "\n",
      "\n",
      "Threads​\n",
      "Many LLM applications are multi-turn, meaning that they involve a series of interactions between the user and the application. LangSmith provides a threads view that groups traces from a single conversation together, making it easier to track the performance of and annotate your application across multiple turns.\n",
      "\n",
      "Was this page helpful?You can leave detailed feedback on GitHub.PreviousQuick StartNextOverviewPrototypingBeta TestingProductionCommunityDiscordTwitterGitHubDocs CodeLangSmith SDKPythonJS/TSMoreHomepageBlogLangChain Python DocsLangChain JS/TS DocsCopyright © 2025 LangChain, Inc.\n",
      "\n",
      "LangSmith User Guide | 🦜️🛠️ LangSmith\n",
      "\n",
      "\n",
      "\n",
      "\n",
      "\n",
      "\n",
      "Skip to main contentLearn the essentials of LangSmith in the new Introduction to LangSmith course!  Enroll for free. API ReferenceRESTPythonJS/TSSearchRegionUSEUGo to AppQuick StartUser GuideTracingEvaluationProduction Monitoring & AutomationsPrompt HubProxyPricingSelf-HostingThis is outdated documentation for 🦜️🛠️ LangSmith, which is no longer actively maintained.For up-to-date documentation, see the latest version.User GuideOn this pageLangSmith User Guide\n",
      "LangSmith is a platform for LLM application development, monitoring, and testing. In this guide, we’ll highlight the breadth of workflows LangSmith supports and how they fit into each stage of the application development lifecycle. We hope this will inform users how to best utilize this powerful platform or give them something to consider if they’re just starting their journey.\n",
      "\n",
      "Prototyping​\n",
      "Prototyping LLM applications often involves quick experimentation between prompts, model types, retrieval strategy and other parameters.\n",
      "The ability to rapidly understand how the model is performing — and debug where it is failing — is incredibly important for this phase.\n",
      "Debugging​\n",
      "When developing new LLM applications, we suggest having LangSmith tracing enabled by default.\n",
      "Oftentimes, it isn’t necessary to look at every single trace. However, when things go wrong (an unexpected end result, infinite agent loop, slower than expected execution, higher than expected token usage), it’s extremely helpful to debug by looking through the application traces. LangSmith gives clear visibility and debugging information at each step of an LLM sequence, making it much easier to identify and root-cause issues.\n",
      "We provide native rendering of chat messages, functions, and retrieve documents.\n",
      "\n",
      "\n",
      "Initial Test Set​\n",
      "While many developers still ship an initial version of their application based on “vibe checks”, we’ve seen an increasing number of engineering teams start to adopt a more test driven approach. LangSmith allows developers to create datasets, which are collections of inputs and reference outputs, and use these to run tests on their LLM applications.\n",
      "These test cases can be uploaded in bulk, created on the fly, or exported from application traces. LangSmith also makes it easy to run custom evaluations (both LLM and heuristic based) to score test results.\n",
      "\n",
      "\n",
      "Comparison View​\n",
      "When prototyping different versions of your applications and making changes, it’s important to see whether or not you’ve regressed with respect to your initial test cases.\n",
      "Oftentimes, changes in the prompt, retrieval strategy, or model choice can have huge implications in responses produced by your application.\n",
      "In order to get a sense for which variant is performing better, it’s useful to be able to view results for different configurations on the same datapoints side-by-side. We’ve invested heavily in a user-friendly comparison view for test runs to track and diagnose regressions in test scores across multiple revisions of your application.\n",
      "\n",
      "\n",
      "Playground​\n",
      "LangSmith provides a playground environment for rapid iteration and experimentation.\n",
      "This allows you to quickly test out different prompts and models. You can open the playground from any prompt or model run in your trace.\n",
      "Every playground run is logged in the system and can be used to create test cases or compare with other runs.\u001b[0m\u001b[32;1m\u001b[1;3mLangSmith is a platform for large language model (LLM) application development, monitoring, and testing. During the prototyping phase, it is helpful to have LangSmith tracing enabled, allowing developers to quickly understand how the model is performing and debug any issues. LangSmith also allows developers to create datasets of inputs and reference outputs, and use these to run tests on their LLM applications. The comparison view allows developers to see how different configurations of their application perform side-by-side. LangSmith also offers a playground for rapid iteration and experimentation.\n",
      "\n",
      "In the beta testing phase, LangSmith allows developers to gather human feedback on the responses their application is producing and attach feedback scores to logged traces. This helps highlight edge cases that are causing problematic responses and draw attention to the most interesting runs. LangSmith also supports sending runs to annotation queues, where annotators can closely inspect and annotate traces with respect to different criteria.\n",
      "\n",
      "In the production phase, it is important to monitor key metrics over time, and LangSmith provides monitoring charts for this purpose. LangSmith also allows for tag and metadata grouping, which is helpful for A/B testing changes in prompt, model, or retrieval strategy. Additionally, automations can be used to perform actions on traces in near real-time, such as scoring traces, sending them to annotation queues, or sending them to datasets.\n",
      "\n",
      "LangSmith also provides a threads view, which groups traces from a single conversation together, making it easier to track the performance of and annotate the application across multiple turns.\u001b[0m\n",
      "\n",
      "\u001b[1m> Finished chain.\u001b[0m\n",
      "{'input': 'What is LangSmith in short?', 'output': 'LangSmith is a platform for large language model (LLM) application development, monitoring, and testing. During the prototyping phase, it is helpful to have LangSmith tracing enabled, allowing developers to quickly understand how the model is performing and debug any issues. LangSmith also allows developers to create datasets of inputs and reference outputs, and use these to run tests on their LLM applications. The comparison view allows developers to see how different configurations of their application perform side-by-side. LangSmith also offers a playground for rapid iteration and experimentation.\\n\\nIn the beta testing phase, LangSmith allows developers to gather human feedback on the responses their application is producing and attach feedback scores to logged traces. This helps highlight edge cases that are causing problematic responses and draw attention to the most interesting runs. LangSmith also supports sending runs to annotation queues, where annotators can closely inspect and annotate traces with respect to different criteria.\\n\\nIn the production phase, it is important to monitor key metrics over time, and LangSmith provides monitoring charts for this purpose. LangSmith also allows for tag and metadata grouping, which is helpful for A/B testing changes in prompt, model, or retrieval strategy. Additionally, automations can be used to perform actions on traces in near real-time, such as scoring traces, sending them to annotation queues, or sending them to datasets.\\n\\nLangSmith also provides a threads view, which groups traces from a single conversation together, making it easier to track the performance of and annotate the application across multiple turns.'}\n"
     ]
    }
   ],
   "source": [
    "response = agent_executor.invoke({\"input\": \"What is LangSmith in short?\"})\n",
    "print(response)\n"
   ]
  },
  {
   "cell_type": "code",
   "execution_count": 25,
   "metadata": {},
   "outputs": [
    {
     "name": "stdout",
     "output_type": "stream",
     "text": [
      "LangSmith is a platform for large language model (LLM) application development, monitoring, and testing. During the prototyping phase, it is helpful to have LangSmith tracing enabled, allowing developers to quickly understand how the model is performing and debug any issues. LangSmith also allows developers to create datasets of inputs and reference outputs, and use these to run tests on their LLM applications. The comparison view allows developers to see how different configurations of their application perform side-by-side. LangSmith also offers a playground for rapid iteration and experimentation.\n",
      "\n",
      "In the beta testing phase, LangSmith allows developers to gather human feedback on the responses their application is producing and attach feedback scores to logged traces. This helps highlight edge cases that are causing problematic responses and draw attention to the most interesting runs. LangSmith also supports sending runs to annotation queues, where annotators can closely inspect and annotate traces with respect to different criteria.\n",
      "\n",
      "In the production phase, it is important to monitor key metrics over time, and LangSmith provides monitoring charts for this purpose. LangSmith also allows for tag and metadata grouping, which is helpful for A/B testing changes in prompt, model, or retrieval strategy. Additionally, automations can be used to perform actions on traces in near real-time, such as scoring traces, sending them to annotation queues, or sending them to datasets.\n",
      "\n",
      "LangSmith also provides a threads view, which groups traces from a single conversation together, making it easier to track the performance of and annotate the application across multiple turns.\n"
     ]
    }
   ],
   "source": [
    "print(response['output'])"
   ]
  },
  {
   "cell_type": "code",
   "execution_count": null,
   "metadata": {},
   "outputs": [],
   "source": []
  },
  {
   "cell_type": "code",
   "execution_count": null,
   "metadata": {},
   "outputs": [],
   "source": []
  }
 ],
 "metadata": {
  "kernelspec": {
   "display_name": "venv",
   "language": "python",
   "name": "python3"
  },
  "language_info": {
   "codemirror_mode": {
    "name": "ipython",
    "version": 3
   },
   "file_extension": ".py",
   "mimetype": "text/x-python",
   "name": "python",
   "nbconvert_exporter": "python",
   "pygments_lexer": "ipython3",
   "version": "3.13.1"
  }
 },
 "nbformat": 4,
 "nbformat_minor": 2
}
