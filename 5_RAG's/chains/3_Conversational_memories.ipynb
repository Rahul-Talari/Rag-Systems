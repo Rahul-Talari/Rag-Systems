{
 "cells": [
  {
   "cell_type": "code",
   "execution_count": null,
   "metadata": {},
   "outputs": [],
   "source": [
    "retrieval_chain=1"
   ]
  },
  {
   "cell_type": "markdown",
   "metadata": {},
   "source": [
    "**1. ConversationBufferMemory (Full Conversation History)**"
   ]
  },
  {
   "cell_type": "code",
   "execution_count": null,
   "metadata": {},
   "outputs": [],
   "source": [
    "from langchain.memory import ConversationBufferMemory\n",
    "# 1. ConversationBufferMemory: \n",
    "# This memory type keeps the entire conversation history (both user queries and assistant responses).\n",
    "# Useful for maintaining the full context throughout the interaction.\n",
    "conversation_buffer_memory = ConversationBufferMemory(memory_key=\"chat_history\")\n",
    "\n",
    "# Function to process queries and update chat history\n",
    "def ask_question_buffer(query):  \n",
    "    global conversation_buffer_memory\n",
    "    # Retrieve the conversation history\n",
    "    response = retrieval_chain.invoke({\"chat_history\": conversation_buffer_memory.load_memory(), \"input\": query})\n",
    "    answer = response['answer']\n",
    "    \n",
    "    # Save the user input and assistant output in memory\n",
    "    conversation_buffer_memory.save_context({\"input\": query}, {\"output\": answer})  \n",
    "    return answer\n"
   ]
  },
  {
   "cell_type": "markdown",
   "metadata": {},
   "source": [
    "**2. ConversationBufferWindowMemory (Fixed Sliding Window)**"
   ]
  },
  {
   "cell_type": "code",
   "execution_count": null,
   "metadata": {},
   "outputs": [],
   "source": [
    "from langchain.memory import ConversationBufferWindowMemory\n",
    "\n",
    "# 2. ConversationBufferWindowMemory: \n",
    "# This memory type only keeps a fixed window of the last 'k' messages (user and assistant).\n",
    "# Older messages are discarded to maintain a compact and relevant conversation context.\n",
    "conversation_buffer_window_memory = ConversationBufferWindowMemory(memory_key=\"chat_history\", k=5)\n",
    "\n",
    "# Function to process queries and update chat history\n",
    "def ask_question_window(query):  \n",
    "    global conversation_buffer_window_memory\n",
    "    # Retrieve the most recent 'k' messages from the memory window\n",
    "    response = retrieval_chain.invoke({\"chat_history\": conversation_buffer_window_memory.load_memory(), \"input\": query})\n",
    "    answer = response['answer']\n",
    "    \n",
    "    # Save the user input and assistant output in memory\n",
    "    conversation_buffer_window_memory.save_context({\"input\": query}, {\"output\": answer})  \n",
    "    return answer\n"
   ]
  },
  {
   "cell_type": "markdown",
   "metadata": {},
   "source": [
    "**3. ConversationSummaryMemory (Summarized Conversation)**"
   ]
  },
  {
   "cell_type": "code",
   "execution_count": null,
   "metadata": {},
   "outputs": [],
   "source": [
    "from langchain.memory import ConversationSummaryMemory\n",
    "\n",
    "# 3. ConversationSummaryMemory: \n",
    "# This memory type keeps a summarized version of the entire conversation.\n",
    "# The system generates key points from the conversation to reduce the memory size while maintaining context.\n",
    "conversation_summary_memory = ConversationSummaryMemory(memory_key=\"chat_history\")\n",
    "\n",
    "# Function to process queries and update chat history\n",
    "def ask_question_summary(query):  \n",
    "    global conversation_summary_memory\n",
    "    # Retrieve the summarized conversation context\n",
    "    response = retrieval_chain.invoke({\"chat_history\": conversation_summary_memory.load_memory(), \"input\": query})\n",
    "    answer = response['answer']\n",
    "    \n",
    "    # Save the user input and assistant output in memory\n",
    "    conversation_summary_memory.save_context({\"input\": query}, {\"output\": answer})  \n",
    "    return answer"
   ]
  },
  {
   "cell_type": "markdown",
   "metadata": {},
   "source": [
    "**4. ConversationSummaryBufferMemory (Summary + Sliding Window)**"
   ]
  },
  {
   "cell_type": "code",
   "execution_count": null,
   "metadata": {},
   "outputs": [],
   "source": [
    "from langchain.memory import ConversationSummaryBufferMemory\n",
    "\n",
    "# 4. ConversationSummaryBufferMemory: \n",
    "# This memory type combines a sliding window (to keep recent 'k' messages) with conversation summary.\n",
    "# It maintains a compact memory while retaining important context and summarizing older exchanges.\n",
    "conversation_summary_buffer_memory = ConversationSummaryBufferMemory(memory_key=\"chat_history\", k=5)\n",
    "\n",
    "# Function to process queries and update chat history\n",
    "def ask_question_summary_buffer(query):  \n",
    "    global conversation_summary_buffer_memory\n",
    "    # Retrieve the memory, which includes recent 'k' messages and a summary of older messages\n",
    "    response = retrieval_chain.invoke({\"chat_history\": conversation_summary_buffer_memory.load_memory(), \"input\": query})\n",
    "    answer = response['answer']\n",
    "    \n",
    "    # Save the user input and assistant output in memory\n",
    "    conversation_summary_buffer_memory.save_context({\"input\": query}, {\"output\": answer})  \n",
    "    return answer"
   ]
  },
  {
   "cell_type": "markdown",
   "metadata": {},
   "source": [
    "**5. ConversationEntityMemory (Track Entities Across Conversations)**"
   ]
  },
  {
   "cell_type": "code",
   "execution_count": null,
   "metadata": {},
   "outputs": [],
   "source": [
    "from langchain.memory import ConversationEntityMemory\n",
    "\n",
    "# 5. ConversationEntityMemory: \n",
    "# This memory type tracks specific entities (e.g., names, locations, dates) mentioned in the conversation.\n",
    "# Useful for tasks that require context-based reasoning and maintaining knowledge of certain items across interactions.\n",
    "conversation_entity_memory = ConversationEntityMemory(memory_key=\"chat_history\")\n",
    "\n",
    "# Function to process queries and update chat history\n",
    "def ask_question_entities(query):  \n",
    "    global conversation_entity_memory\n",
    "    # Retrieve the memory, which tracks specific entities discussed\n",
    "    response = retrieval_chain.invoke({\"chat_history\": conversation_entity_memory.load_memory(), \"input\": query})\n",
    "    answer = response['answer']\n",
    "    \n",
    "    # Save the user input and assistant output in memory\n",
    "    conversation_entity_memory.save_context({\"input\": query}, {\"output\": answer})  \n",
    "    return answer"
   ]
  },
  {
   "cell_type": "code",
   "execution_count": null,
   "metadata": {},
   "outputs": [],
   "source": []
  },
  {
   "cell_type": "code",
   "execution_count": null,
   "metadata": {},
   "outputs": [],
   "source": []
  },
  {
   "cell_type": "code",
   "execution_count": null,
   "metadata": {},
   "outputs": [],
   "source": []
  },
  {
   "cell_type": "code",
   "execution_count": null,
   "metadata": {},
   "outputs": [],
   "source": []
  }
 ],
 "metadata": {
  "kernelspec": {
   "display_name": "venv",
   "language": "python",
   "name": "python3"
  },
  "language_info": {
   "name": "python",
   "version": "3.13.1"
  }
 },
 "nbformat": 4,
 "nbformat_minor": 2
}
